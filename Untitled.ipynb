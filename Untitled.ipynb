{
 "cells": [
  {
   "cell_type": "code",
   "execution_count": 35,
   "metadata": {
    "collapsed": false
   },
   "outputs": [],
   "source": [
    "from github import Github\n",
    "g = Github(\"nishant07\",\"passoword\")"
   ]
  },
  {
   "cell_type": "code",
   "execution_count": 37,
   "metadata": {
    "collapsed": false
   },
   "outputs": [
    {
     "name": "stdout",
     "output_type": "stream",
     "text": [
      "Citation-Recommender-System\n",
      "2014\n",
      "2014_data\n",
      "AuthorProfiling\n",
      "B551-Artificial-Intelligence-a1\n",
      "B551-Artificial-Intelligence-a2\n",
      "B551-Artificial-Intelligence-a3\n",
      "B551-Artificial-Intelligence-a4\n",
      "B551-Artificial-Intelligence-a5\n",
      "B551-Artificial-Intelligence-a6\n",
      "courses\n",
      "CSI_C_Programs\n",
      "datasci_course_materials\n",
      "ExData_Plotting1\n",
      "Getting-and-Cleaning-Data-Course-Project\n",
      "h2o-hackathon-2017\n",
      "hackerrank\n",
      "InsightDataEngineeringCC17\n",
      "Kaggle_Outbrain-Click-Prediction\n",
      "oo_java\n",
      "ProgrammingAssignment2\n",
      "RepData_PeerAssessment1\n",
      "RGoogleAnalytics\n",
      "WhatsAPI-Official\n",
      "Z604-Big-Data-Analytics\n"
     ]
    }
   ],
   "source": [
    "for repo in g.get_user().get_repos():\n",
    "    print repo.name"
   ]
  },
  {
   "cell_type": "code",
   "execution_count": 13,
   "metadata": {
    "collapsed": false
   },
   "outputs": [],
   "source": [
    "from github import Repository"
   ]
  },
  {
   "cell_type": "code",
   "execution_count": 46,
   "metadata": {
    "collapsed": false
   },
   "outputs": [
    {
     "name": "stdout",
     "output_type": "stream",
     "text": [
      "PUBDEV-4515: Documentation updates to balance_classes\n",
      "Tomas/pubdev 4611 - Made Orc Parser use VecFilesystem\n",
      "PUBDEV-4595: model error.  Replace / in mode_id with _ and generate a user warning\n",
      "Distributed XGBoost\n",
      "[PUBDEV-4269] H2O should warn user about the minimal required Coloram…\n",
      "PUBDEV-4578: Fixing h2o R package CRAN NOTE (#1287)\n",
      "PUBDEV-4445: prediction warning.  -Passed warning messages from model…\n",
      "Add dart options to XGBoost (and quiet_mode)\n",
      "[PUBDEV-4572][PUBDEV-4548] Move initialization of XGBoost into H2O co…\n",
      "PUBDEV-4448: Pipe validation_frame through to the metalearner in Stacked Ensembles\n",
      "PUBDEV-4565: fixing typo in AutoML user guide R output\n",
      "[PUBDEV-4555] Log refactoring\n",
      "[PUBDEV-4550] Kill test JVM on OOM\n",
      "[PUBDEV-4541] Create logs into unique directories and refactor out me…\n",
      "[PUBDEV-4537] Small build improvements\n",
      "PUBDEV-4526 Relax assert when dealing with categorical chunks in AstRBind\n",
      "[PUBDEV-4447] Update Jetty to Jetty 9\n",
      "[PUBDEV-4292][WIP] Non-recursive creation of Rapid expressions in Python\n",
      "Fix model export via java-rest-bindings\n",
      "Sometimes I encounter chunks in categorical columns, which are all NA…\n",
      "[PUBDEV-4375] SVD using netlib-java for PCA\n",
      "[PUBDEV-4249] Allow users to override default Python binary\n",
      "Vlad/pubdev 3281 take 2\n",
      "WIP towards LSTM in mxnet - not yet working\n",
      "User API\n",
      "Added test case for PUBDEV-4026.\n",
      "Restored from vlad/PUBDEV-3955\n",
      "Restored from broken branch vlad/PUBDEV-4159\n",
      "PUBDEV-4527 Added CXSChunk for sparse fixed point floating numbers. \n",
      "Add L1/L2 regularization for GBM/DRF.\n",
      "[PUBDEV-4094] Fixed the issue with mismatching UUID type and data\n",
      "Vlad userapi step3\n",
      "PUBDEV-4003: add api tests for python data manipulation module. Add a…\n",
      "Add support for `coef(h2o_model)` in R\n",
      "[WIP] Make EasyModelPredictWrapper work for AutoEncoders\n",
      "Minor tweaks. a4c0391 for Jacoco; 868270d, 6d525da for AutoML\n",
      "Vlad c str chunk small fix\n",
      "Ensemble - Weights Column\n",
      "upgrade DESCRIPTION file syntax, url match to github, closes PUBDEV-3754\n",
      "h2o R package render script, closes PUBDEV-3689\n",
      "Arno catencoding\n",
      "PUBDEV-3705: Issue a warning if Parser reaches outside of the known columns\n",
      "glm pojo: ignore unseen levels when told to do so\n",
      "a couple sort junits\n",
      "WIP towards ADADELTA for GBM - not yet working.\n",
      "Add H2O Ensemble Cross Validation code & change name of metalearner in fit object for metalearn.R\n",
      "Allow zero-chunk AppendableVec\n",
      "all added backend changed for treeViz on flow\n"
     ]
    }
   ],
   "source": [
    "r = g.get_user(\"h2oai\").get_repo(\"h2o-3\")\n",
    "for pr in r.get_pulls():\n",
    "    print pr.title"
   ]
  }
 ],
 "metadata": {
  "anaconda-cloud": {},
  "kernelspec": {
   "display_name": "Python [conda root]",
   "language": "python",
   "name": "conda-root-py"
  },
  "language_info": {
   "codemirror_mode": {
    "name": "ipython",
    "version": 2
   },
   "file_extension": ".py",
   "mimetype": "text/x-python",
   "name": "python",
   "nbconvert_exporter": "python",
   "pygments_lexer": "ipython2",
   "version": "2.7.12"
  }
 },
 "nbformat": 4,
 "nbformat_minor": 1
}
